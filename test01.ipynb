{
 "cells": [
  {
   "cell_type": "code",
   "execution_count": 1,
   "metadata": {},
   "outputs": [],
   "source": [
    "import numpy as np\n",
    "import pandas as pd\n",
    "\n",
    "from sklearn.metrics import mean_squared_error"
   ]
  },
  {
   "cell_type": "markdown",
   "metadata": {},
   "source": [
    "### Regression"
   ]
  },
  {
   "cell_type": "code",
   "execution_count": 142,
   "metadata": {},
   "outputs": [],
   "source": [
    "data_X = np.arange(10).reshape(-1, 1).astype('float32')\n",
    "data_Y = np.arange(10).reshape(-1, 1).astype('float32')"
   ]
  },
  {
   "cell_type": "code",
   "execution_count": 143,
   "metadata": {},
   "outputs": [
    {
     "name": "stdout",
     "output_type": "stream",
     "text": [
      "(7, 1)\n",
      "(3, 1)\n",
      "[[9.]\n",
      " [1.]\n",
      " [6.]\n",
      " [7.]\n",
      " [3.]\n",
      " [0.]\n",
      " [5.]]\n"
     ]
    }
   ],
   "source": [
    "from sklearn import model_selection\n",
    "\n",
    "train_X, test_X, train_Y, test_Y = model_selection.train_test_split\\\n",
    "(data_X, data_Y, test_size=0.3, random_state=0)\n",
    "print(train_X.shape)\n",
    "print(test_X.shape)\n",
    "print(train_X)"
   ]
  },
  {
   "cell_type": "code",
   "execution_count": 144,
   "metadata": {},
   "outputs": [],
   "source": [
    "import tensorflow as tf\n",
    "from tensorflow.keras import models, layers, activations, initializers, \\\n",
    "losses, optimizers, metrics\n",
    "import os\n",
    "\n",
    "os.environ['TF_CPP_MIN_LOG_LEVEL'] = '2'\n"
   ]
  },
  {
   "cell_type": "code",
   "execution_count": 151,
   "metadata": {},
   "outputs": [],
   "source": [
    "model = models.Sequential() \n",
    "\n",
    "model.add(layers.Dense(input_dim=1, units=128, activation=None)) \n",
    "# model.add(layers.BatchNormalization()) # Use this line as if needed\n",
    "model.add(layers.Activation('relu')) # layers.ELU or layers.LeakyReLU\n",
    "\n",
    "model.add(layers.Dense(units=128, activation=None)) \n",
    "model.add(layers.Activation('relu'))\n",
    "\n",
    "model.add(layers.Dense(units=64, activation=None)) \n",
    "model.add(layers.Activation('relu'))\n",
    "# model.add(layers.Dropout(rate=0.4))\n",
    "\n",
    "model.add(layers.Dense(units=1, activation=None))"
   ]
  },
  {
   "cell_type": "code",
   "execution_count": 152,
   "metadata": {},
   "outputs": [],
   "source": [
    "model.compile(optimizer=optimizers.Adam(),\n",
    "              loss=losses.mean_squared_error,\n",
    "              metrics=[metrics.mean_squared_error])"
   ]
  },
  {
   "cell_type": "code",
   "execution_count": 158,
   "metadata": {},
   "outputs": [
    {
     "name": "stdout",
     "output_type": "stream",
     "text": [
      "Epoch 1/100\n",
      "7/7 [==============================] - 0s 0s/sample - loss: 2.2291 - mean_squared_error: 2.2291\n",
      "Epoch 2/100\n",
      "7/7 [==============================] - 0s 570us/sample - loss: 1.0634 - mean_squared_error: 1.0634\n",
      "Epoch 3/100\n",
      "7/7 [==============================] - 0s 570us/sample - loss: 0.2903 - mean_squared_error: 0.2903\n",
      "Epoch 4/100\n",
      "7/7 [==============================] - 0s 532us/sample - loss: 0.0287 - mean_squared_error: 0.0287\n",
      "Epoch 5/100\n",
      "7/7 [==============================] - 0s 1ms/sample - loss: 0.2004 - mean_squared_error: 0.2004\n",
      "Epoch 6/100\n",
      "7/7 [==============================] - 0s 428us/sample - loss: 0.4337 - mean_squared_error: 0.4337\n",
      "Epoch 7/100\n",
      "7/7 [==============================] - 0s 570us/sample - loss: 0.5824 - mean_squared_error: 0.5824\n",
      "Epoch 8/100\n",
      "7/7 [==============================] - 0s 570us/sample - loss: 0.5428 - mean_squared_error: 0.5428\n",
      "Epoch 9/100\n",
      "7/7 [==============================] - 0s 712us/sample - loss: 0.3587 - mean_squared_error: 0.3587\n",
      "Epoch 10/100\n",
      "7/7 [==============================] - 0s 570us/sample - loss: 0.1485 - mean_squared_error: 0.1485\n",
      "Epoch 11/100\n",
      "7/7 [==============================] - 0s 712us/sample - loss: 0.0311 - mean_squared_error: 0.0311\n",
      "Epoch 12/100\n",
      "7/7 [==============================] - 0s 570us/sample - loss: 0.0202 - mean_squared_error: 0.0202\n",
      "Epoch 13/100\n",
      "7/7 [==============================] - 0s 570us/sample - loss: 0.0604 - mean_squared_error: 0.0604\n",
      "Epoch 14/100\n",
      "7/7 [==============================] - 0s 570us/sample - loss: 0.0953 - mean_squared_error: 0.0953\n",
      "Epoch 15/100\n",
      "7/7 [==============================] - 0s 570us/sample - loss: 0.0796 - mean_squared_error: 0.0796\n",
      "Epoch 16/100\n",
      "7/7 [==============================] - 0s 570us/sample - loss: 0.0452 - mean_squared_error: 0.0452\n",
      "Epoch 17/100\n",
      "7/7 [==============================] - 0s 712us/sample - loss: 0.0163 - mean_squared_error: 0.0163\n",
      "Epoch 18/100\n",
      "7/7 [==============================] - 0s 712us/sample - loss: 0.0148 - mean_squared_error: 0.0148\n",
      "Epoch 19/100\n",
      "7/7 [==============================] - 0s 570us/sample - loss: 0.0233 - mean_squared_error: 0.0233\n",
      "Epoch 20/100\n",
      "7/7 [==============================] - 0s 712us/sample - loss: 0.0268 - mean_squared_error: 0.0268\n",
      "Epoch 21/100\n",
      "7/7 [==============================] - 0s 570us/sample - loss: 0.0234 - mean_squared_error: 0.0234\n",
      "Epoch 22/100\n",
      "7/7 [==============================] - 0s 712us/sample - loss: 0.0173 - mean_squared_error: 0.0173\n",
      "Epoch 23/100\n",
      "7/7 [==============================] - 0s 570us/sample - loss: 0.0124 - mean_squared_error: 0.0124\n",
      "Epoch 24/100\n",
      "7/7 [==============================] - 0s 570us/sample - loss: 0.0113 - mean_squared_error: 0.0113\n",
      "Epoch 25/100\n",
      "7/7 [==============================] - 0s 569us/sample - loss: 0.0122 - mean_squared_error: 0.0122\n",
      "Epoch 26/100\n",
      "7/7 [==============================] - 0s 712us/sample - loss: 0.0139 - mean_squared_error: 0.0139\n",
      "Epoch 27/100\n",
      "7/7 [==============================] - 0s 712us/sample - loss: 0.0115 - mean_squared_error: 0.0115\n",
      "Epoch 28/100\n",
      "7/7 [==============================] - 0s 570us/sample - loss: 0.0093 - mean_squared_error: 0.0093\n",
      "Epoch 29/100\n",
      "7/7 [==============================] - 0s 713us/sample - loss: 0.0092 - mean_squared_error: 0.0092\n",
      "Epoch 30/100\n",
      "7/7 [==============================] - 0s 427us/sample - loss: 0.0084 - mean_squared_error: 0.0084\n",
      "Epoch 31/100\n",
      "7/7 [==============================] - 0s 570us/sample - loss: 0.0074 - mean_squared_error: 0.0074\n",
      "Epoch 32/100\n",
      "7/7 [==============================] - 0s 570us/sample - loss: 0.0084 - mean_squared_error: 0.0084\n",
      "Epoch 33/100\n",
      "7/7 [==============================] - 0s 427us/sample - loss: 0.0065 - mean_squared_error: 0.0065\n",
      "Epoch 34/100\n",
      "7/7 [==============================] - 0s 570us/sample - loss: 0.0071 - mean_squared_error: 0.0071\n",
      "Epoch 35/100\n",
      "7/7 [==============================] - 0s 570us/sample - loss: 0.0098 - mean_squared_error: 0.0098\n",
      "Epoch 36/100\n",
      "7/7 [==============================] - 0s 570us/sample - loss: 0.0070 - mean_squared_error: 0.0070\n",
      "Epoch 37/100\n",
      "7/7 [==============================] - 0s 570us/sample - loss: 0.0045 - mean_squared_error: 0.0045\n",
      "Epoch 38/100\n",
      "7/7 [==============================] - 0s 570us/sample - loss: 0.0087 - mean_squared_error: 0.0087\n",
      "Epoch 39/100\n",
      "7/7 [==============================] - 0s 570us/sample - loss: 0.0066 - mean_squared_error: 0.0066\n",
      "Epoch 40/100\n",
      "7/7 [==============================] - 0s 570us/sample - loss: 0.0036 - mean_squared_error: 0.0036\n",
      "Epoch 41/100\n",
      "7/7 [==============================] - 0s 570us/sample - loss: 0.0066 - mean_squared_error: 0.0066\n",
      "Epoch 42/100\n",
      "7/7 [==============================] - 0s 570us/sample - loss: 0.0072 - mean_squared_error: 0.0072\n",
      "Epoch 43/100\n",
      "7/7 [==============================] - 0s 570us/sample - loss: 0.0024 - mean_squared_error: 0.0024\n",
      "Epoch 44/100\n",
      "7/7 [==============================] - 0s 570us/sample - loss: 0.0043 - mean_squared_error: 0.0043\n",
      "Epoch 45/100\n",
      "7/7 [==============================] - 0s 427us/sample - loss: 0.0014 - mean_squared_error: 0.0014\n",
      "Epoch 46/100\n",
      "7/7 [==============================] - 0s 783us/sample - loss: 0.0030 - mean_squared_error: 0.0030\n",
      "Epoch 47/100\n",
      "7/7 [==============================] - 0s 427us/sample - loss: 0.0048 - mean_squared_error: 0.0048\n",
      "Epoch 48/100\n",
      "7/7 [==============================] - 0s 676us/sample - loss: 0.0012 - mean_squared_error: 0.0012\n",
      "Epoch 49/100\n",
      "7/7 [==============================] - 0s 570us/sample - loss: 0.0023 - mean_squared_error: 0.0023\n",
      "Epoch 50/100\n",
      "7/7 [==============================] - 0s 570us/sample - loss: 0.0055 - mean_squared_error: 0.0055\n",
      "Epoch 51/100\n",
      "7/7 [==============================] - 0s 570us/sample - loss: 0.0024 - mean_squared_error: 0.0024\n",
      "Epoch 52/100\n",
      "7/7 [==============================] - 0s 712us/sample - loss: 5.0960e-04 - mean_squared_error: 5.0960e-04\n",
      "Epoch 53/100\n",
      "7/7 [==============================] - 0s 570us/sample - loss: 0.0012 - mean_squared_error: 0.0012\n",
      "Epoch 54/100\n",
      "7/7 [==============================] - 0s 712us/sample - loss: 4.7602e-04 - mean_squared_error: 4.7602e-04\n",
      "Epoch 55/100\n",
      "7/7 [==============================] - 0s 427us/sample - loss: 0.0018 - mean_squared_error: 0.0018\n",
      "Epoch 56/100\n",
      "7/7 [==============================] - 0s 427us/sample - loss: 4.0956e-04 - mean_squared_error: 4.0956e-04\n",
      "Epoch 57/100\n",
      "7/7 [==============================] - 0s 427us/sample - loss: 0.0011 - mean_squared_error: 0.0011\n",
      "Epoch 58/100\n",
      "7/7 [==============================] - 0s 146us/sample - loss: 3.3104e-04 - mean_squared_error: 3.3104e-04\n",
      "Epoch 59/100\n",
      "7/7 [==============================] - 0s 0s/sample - loss: 0.0014 - mean_squared_error: 0.0014   \n",
      "Epoch 60/100\n",
      "7/7 [==============================] - 0s 427us/sample - loss: 2.1839e-04 - mean_squared_error: 2.1839e-04\n",
      "Epoch 61/100\n",
      "7/7 [==============================] - 0s 570us/sample - loss: 0.0044 - mean_squared_error: 0.0044\n",
      "Epoch 62/100\n",
      "7/7 [==============================] - 0s 570us/sample - loss: 0.0045 - mean_squared_error: 0.0045\n",
      "Epoch 63/100\n",
      "7/7 [==============================] - 0s 644us/sample - loss: 5.5667e-04 - mean_squared_error: 5.5667e-04\n",
      "Epoch 64/100\n",
      "7/7 [==============================] - 0s 428us/sample - loss: 4.8469e-04 - mean_squared_error: 4.8469e-04\n",
      "Epoch 65/100\n",
      "7/7 [==============================] - 0s 427us/sample - loss: 4.1763e-04 - mean_squared_error: 4.1763e-04\n",
      "Epoch 66/100\n",
      "7/7 [==============================] - 0s 570us/sample - loss: 1.8854e-04 - mean_squared_error: 1.8854e-04\n",
      "Epoch 67/100\n",
      "7/7 [==============================] - 0s 570us/sample - loss: 3.1541e-04 - mean_squared_error: 3.1541e-04\n",
      "Epoch 68/100\n",
      "7/7 [==============================] - 0s 570us/sample - loss: 2.5011e-04 - mean_squared_error: 2.5011e-04\n",
      "Epoch 69/100\n",
      "7/7 [==============================] - 0s 570us/sample - loss: 1.7996e-04 - mean_squared_error: 1.7996e-04\n",
      "Epoch 70/100\n",
      "7/7 [==============================] - 0s 598us/sample - loss: 3.8225e-04 - mean_squared_error: 3.8225e-04\n",
      "Epoch 71/100\n",
      "7/7 [==============================] - 0s 570us/sample - loss: 2.6277e-04 - mean_squared_error: 2.6277e-04\n",
      "Epoch 72/100\n",
      "7/7 [==============================] - 0s 570us/sample - loss: 1.3245e-04 - mean_squared_error: 1.3245e-04\n",
      "Epoch 73/100\n"
     ]
    },
    {
     "name": "stdout",
     "output_type": "stream",
     "text": [
      "7/7 [==============================] - 0s 712us/sample - loss: 2.7594e-04 - mean_squared_error: 2.7594e-04\n",
      "Epoch 74/100\n",
      "7/7 [==============================] - 0s 570us/sample - loss: 1.8236e-04 - mean_squared_error: 1.8236e-04\n",
      "Epoch 75/100\n",
      "7/7 [==============================] - 0s 570us/sample - loss: 2.1265e-04 - mean_squared_error: 2.1265e-04\n",
      "Epoch 76/100\n",
      "7/7 [==============================] - 0s 427us/sample - loss: 2.3029e-04 - mean_squared_error: 2.3029e-04\n",
      "Epoch 77/100\n",
      "7/7 [==============================] - 0s 570us/sample - loss: 1.1757e-04 - mean_squared_error: 1.1757e-04\n",
      "Epoch 78/100\n",
      "7/7 [==============================] - 0s 570us/sample - loss: 2.8494e-04 - mean_squared_error: 2.8494e-04\n",
      "Epoch 79/100\n",
      "7/7 [==============================] - 0s 570us/sample - loss: 1.3021e-04 - mean_squared_error: 1.3021e-04\n",
      "Epoch 80/100\n",
      "7/7 [==============================] - 0s 570us/sample - loss: 2.9131e-04 - mean_squared_error: 2.9131e-04\n",
      "Epoch 81/100\n",
      "7/7 [==============================] - 0s 570us/sample - loss: 2.9178e-04 - mean_squared_error: 2.9178e-04\n",
      "Epoch 82/100\n",
      "7/7 [==============================] - 0s 570us/sample - loss: 1.5170e-04 - mean_squared_error: 1.5170e-04\n",
      "Epoch 83/100\n",
      "7/7 [==============================] - 0s 570us/sample - loss: 3.6308e-04 - mean_squared_error: 3.6308e-04\n",
      "Epoch 84/100\n",
      "7/7 [==============================] - 0s 570us/sample - loss: 1.3369e-04 - mean_squared_error: 1.3369e-04\n",
      "Epoch 85/100\n",
      "7/7 [==============================] - 0s 596us/sample - loss: 2.3181e-04 - mean_squared_error: 2.3181e-04\n",
      "Epoch 86/100\n",
      "7/7 [==============================] - 0s 570us/sample - loss: 1.5951e-04 - mean_squared_error: 1.5951e-04\n",
      "Epoch 87/100\n",
      "7/7 [==============================] - 0s 570us/sample - loss: 1.2043e-04 - mean_squared_error: 1.2043e-04\n",
      "Epoch 88/100\n",
      "7/7 [==============================] - 0s 570us/sample - loss: 1.7428e-04 - mean_squared_error: 1.7428e-04\n",
      "Epoch 89/100\n",
      "7/7 [==============================] - 0s 570us/sample - loss: 1.0147e-04 - mean_squared_error: 1.0147e-04\n",
      "Epoch 90/100\n",
      "7/7 [==============================] - 0s 634us/sample - loss: 1.0366e-04 - mean_squared_error: 1.0366e-04\n",
      "Epoch 91/100\n",
      "7/7 [==============================] - 0s 570us/sample - loss: 1.0053e-04 - mean_squared_error: 1.0053e-04\n",
      "Epoch 92/100\n",
      "7/7 [==============================] - 0s 570us/sample - loss: 1.6674e-04 - mean_squared_error: 1.6674e-04\n",
      "Epoch 93/100\n",
      "7/7 [==============================] - 0s 570us/sample - loss: 1.9616e-04 - mean_squared_error: 1.9616e-04\n",
      "Epoch 94/100\n",
      "7/7 [==============================] - 0s 570us/sample - loss: 9.6247e-05 - mean_squared_error: 9.6247e-05\n",
      "Epoch 95/100\n",
      "7/7 [==============================] - 0s 570us/sample - loss: 2.8280e-04 - mean_squared_error: 2.8280e-04\n",
      "Epoch 96/100\n",
      "7/7 [==============================] - 0s 570us/sample - loss: 1.8179e-04 - mean_squared_error: 1.8179e-04\n",
      "Epoch 97/100\n",
      "7/7 [==============================] - 0s 570us/sample - loss: 9.1364e-05 - mean_squared_error: 9.1364e-05\n",
      "Epoch 98/100\n",
      "7/7 [==============================] - 0s 570us/sample - loss: 9.6841e-05 - mean_squared_error: 9.6841e-05\n",
      "Epoch 99/100\n",
      "7/7 [==============================] - 0s 570us/sample - loss: 1.2153e-04 - mean_squared_error: 1.2153e-04\n",
      "Epoch 100/100\n",
      "7/7 [==============================] - 0s 570us/sample - loss: 1.0389e-04 - mean_squared_error: 1.0389e-04\n"
     ]
    }
   ],
   "source": [
    "history = model.fit(train_X, train_Y, batch_size=6, epochs=100, verbose=1)"
   ]
  },
  {
   "cell_type": "code",
   "execution_count": 159,
   "metadata": {},
   "outputs": [
    {
     "name": "stdout",
     "output_type": "stream",
     "text": [
      "3/3 [==============================] - 0s 0s/sample - loss: 3.4395e-04 - mean_squared_error: 3.4395e-04\n",
      "loss (mse) : 0.0003439505526330322\n"
     ]
    }
   ],
   "source": [
    "result = model.evaluate(test_X, test_Y)\n",
    "\n",
    "print('loss (mse) :', result[0])"
   ]
  },
  {
   "cell_type": "code",
   "execution_count": 160,
   "metadata": {},
   "outputs": [],
   "source": [
    "pred_X = np.array([11, 12, 13]).reshape(-1, 1)"
   ]
  },
  {
   "cell_type": "code",
   "execution_count": 161,
   "metadata": {},
   "outputs": [
    {
     "data": {
      "text/plain": [
       "array([[11.00398 ],\n",
       "       [12.001164],\n",
       "       [12.998347]], dtype=float32)"
      ]
     },
     "execution_count": 161,
     "metadata": {},
     "output_type": "execute_result"
    }
   ],
   "source": [
    "model.predict(pred_X)"
   ]
  },
  {
   "cell_type": "markdown",
   "metadata": {},
   "source": [
    "### Classifier"
   ]
  },
  {
   "cell_type": "code",
   "execution_count": 40,
   "metadata": {},
   "outputs": [
    {
     "name": "stderr",
     "output_type": "stream",
     "text": [
      "Using TensorFlow backend.\n"
     ]
    }
   ],
   "source": [
    "from keras.utils import to_categorical"
   ]
  },
  {
   "cell_type": "code",
   "execution_count": 163,
   "metadata": {},
   "outputs": [
    {
     "name": "stdout",
     "output_type": "stream",
     "text": [
      "(7, 1)\n",
      "(3, 1)\n",
      "(3, 2)\n"
     ]
    }
   ],
   "source": [
    "data_X = np.arange(10).reshape(-1, 1)\n",
    "# .astype('float32')\n",
    "data_Y = to_categorical([1, 0, 1, 0, 1, 0, 1, 0, 1, 0])\n",
    "\n",
    "train_X, test_X, train_Y, test_Y = model_selection.train_test_split\\\n",
    "(data_X, data_Y, test_size=0.3, random_state=0)\n",
    "print(train_X.shape)\n",
    "print(test_X.shape)\n",
    "print(test_Y.shape)\n",
    "\n"
   ]
  },
  {
   "cell_type": "code",
   "execution_count": 168,
   "metadata": {},
   "outputs": [],
   "source": [
    "model = models.Sequential() \n",
    "\n",
    "model.add(layers.Dense(input_dim=1, units=128, activation=None)) \n",
    "# model.add(layers.BatchNormalization()) # Use this line as if needed\n",
    "model.add(layers.Activation('relu')) # layers.ELU or layers.LeakyReLU\n",
    "\n",
    "model.add(layers.Dense(units=128, activation=None)) \n",
    "model.add(layers.Activation('relu')) \n",
    "\n",
    "model.add(layers.Dense(units=64, activation=None)) \n",
    "model.add(layers.Activation('relu'))\n",
    "\n",
    "model.add(layers.Dense(units=2, activation='softmax')) # One-hot vector for 0 & 1"
   ]
  },
  {
   "cell_type": "code",
   "execution_count": 169,
   "metadata": {},
   "outputs": [],
   "source": [
    "model.compile(optimizer=optimizers.Adam(), \n",
    "              loss=tf.losses.sigmoid_cross_entropy,\n",
    "              metrics=[metrics.binary_accuracy]) "
   ]
  },
  {
   "cell_type": "code",
   "execution_count": 189,
   "metadata": {},
   "outputs": [
    {
     "name": "stdout",
     "output_type": "stream",
     "text": [
      "Epoch 1/100\n",
      "7/7 [==============================] - 0s 1ms/sample - loss: 0.7632 - categorical_accuracy: 0.7143\n",
      "Epoch 2/100\n",
      "7/7 [==============================] - 0s 1ms/sample - loss: 0.7190 - categorical_accuracy: 0.7143\n",
      "Epoch 3/100\n",
      "7/7 [==============================] - 0s 1ms/sample - loss: 0.7250 - categorical_accuracy: 0.7143\n",
      "Epoch 4/100\n",
      "7/7 [==============================] - 0s 1ms/sample - loss: 0.7360 - categorical_accuracy: 0.7143\n",
      "Epoch 5/100\n",
      "7/7 [==============================] - 0s 997us/sample - loss: 0.7250 - categorical_accuracy: 0.7143\n",
      "Epoch 6/100\n",
      "7/7 [==============================] - 0s 1ms/sample - loss: 0.7049 - categorical_accuracy: 0.7143\n",
      "Epoch 7/100\n",
      "7/7 [==============================] - 0s 1ms/sample - loss: 0.7092 - categorical_accuracy: 0.5714\n",
      "Epoch 8/100\n",
      "7/7 [==============================] - 0s 1ms/sample - loss: 0.6801 - categorical_accuracy: 0.5714\n",
      "Epoch 9/100\n",
      "7/7 [==============================] - 0s 1ms/sample - loss: 0.6754 - categorical_accuracy: 0.8571\n",
      "Epoch 10/100\n",
      "7/7 [==============================] - 0s 1ms/sample - loss: 0.6666 - categorical_accuracy: 0.8571\n",
      "Epoch 11/100\n",
      "7/7 [==============================] - 0s 1ms/sample - loss: 0.6492 - categorical_accuracy: 0.8571\n",
      "Epoch 12/100\n",
      "7/7 [==============================] - 0s 1ms/sample - loss: 0.6496 - categorical_accuracy: 0.5714\n",
      "Epoch 13/100\n",
      "7/7 [==============================] - 0s 1ms/sample - loss: 0.6312 - categorical_accuracy: 0.8571\n",
      "Epoch 14/100\n",
      "7/7 [==============================] - 0s 1ms/sample - loss: 0.6323 - categorical_accuracy: 1.0000\n",
      "Epoch 15/100\n",
      "7/7 [==============================] - 0s 1ms/sample - loss: 0.6318 - categorical_accuracy: 0.8571\n",
      "Epoch 16/100\n",
      "7/7 [==============================] - 0s 1ms/sample - loss: 0.6730 - categorical_accuracy: 0.8571\n",
      "Epoch 17/100\n",
      "7/7 [==============================] - 0s 1ms/sample - loss: 0.6165 - categorical_accuracy: 0.7143\n",
      "Epoch 18/100\n",
      "7/7 [==============================] - 0s 1ms/sample - loss: 0.6054 - categorical_accuracy: 0.8571\n",
      "Epoch 19/100\n",
      "7/7 [==============================] - 0s 1ms/sample - loss: 0.6107 - categorical_accuracy: 0.7143\n",
      "Epoch 20/100\n",
      "7/7 [==============================] - 0s 1ms/sample - loss: 0.5954 - categorical_accuracy: 0.8571\n",
      "Epoch 21/100\n",
      "7/7 [==============================] - 0s 1ms/sample - loss: 0.5806 - categorical_accuracy: 0.8571\n",
      "Epoch 22/100\n",
      "7/7 [==============================] - 0s 1ms/sample - loss: 0.5625 - categorical_accuracy: 0.8571\n",
      "Epoch 23/100\n",
      "7/7 [==============================] - 0s 1ms/sample - loss: 0.5635 - categorical_accuracy: 1.0000\n",
      "Epoch 24/100\n",
      "7/7 [==============================] - 0s 1ms/sample - loss: 0.5575 - categorical_accuracy: 1.0000\n",
      "Epoch 25/100\n",
      "7/7 [==============================] - 0s 1ms/sample - loss: 0.5592 - categorical_accuracy: 0.8571\n",
      "Epoch 26/100\n",
      "7/7 [==============================] - 0s 1ms/sample - loss: 0.5388 - categorical_accuracy: 0.8571\n",
      "Epoch 27/100\n",
      "7/7 [==============================] - 0s 997us/sample - loss: 0.5350 - categorical_accuracy: 1.0000\n",
      "Epoch 28/100\n",
      "7/7 [==============================] - 0s 997us/sample - loss: 0.5287 - categorical_accuracy: 1.0000\n",
      "Epoch 29/100\n",
      "7/7 [==============================] - 0s 1ms/sample - loss: 0.5283 - categorical_accuracy: 0.8571\n",
      "Epoch 30/100\n",
      "7/7 [==============================] - 0s 1ms/sample - loss: 0.5354 - categorical_accuracy: 0.8571\n",
      "Epoch 31/100\n",
      "7/7 [==============================] - 0s 997us/sample - loss: 0.5243 - categorical_accuracy: 0.8571\n",
      "Epoch 32/100\n",
      "7/7 [==============================] - 0s 1ms/sample - loss: 0.5144 - categorical_accuracy: 1.0000\n",
      "Epoch 33/100\n",
      "7/7 [==============================] - 0s 1ms/sample - loss: 0.4914 - categorical_accuracy: 1.0000\n",
      "Epoch 34/100\n",
      "7/7 [==============================] - 0s 2ms/sample - loss: 0.4929 - categorical_accuracy: 0.8571\n",
      "Epoch 35/100\n",
      "7/7 [==============================] - 0s 1ms/sample - loss: 0.5089 - categorical_accuracy: 0.8571\n",
      "Epoch 36/100\n",
      "7/7 [==============================] - 0s 1ms/sample - loss: 0.4927 - categorical_accuracy: 0.7143\n",
      "Epoch 37/100\n",
      "7/7 [==============================] - 0s 1ms/sample - loss: 0.4729 - categorical_accuracy: 0.8571\n",
      "Epoch 38/100\n",
      "7/7 [==============================] - 0s 1ms/sample - loss: 0.4805 - categorical_accuracy: 0.8571\n",
      "Epoch 39/100\n",
      "7/7 [==============================] - 0s 1ms/sample - loss: 0.4740 - categorical_accuracy: 1.0000\n",
      "Epoch 40/100\n",
      "7/7 [==============================] - 0s 1ms/sample - loss: 0.4672 - categorical_accuracy: 0.8571\n",
      "Epoch 41/100\n",
      "7/7 [==============================] - 0s 1ms/sample - loss: 0.4714 - categorical_accuracy: 0.8571\n",
      "Epoch 42/100\n",
      "7/7 [==============================] - 0s 1ms/sample - loss: 0.4702 - categorical_accuracy: 0.8571\n",
      "Epoch 43/100\n",
      "7/7 [==============================] - ETA: 0s - loss: 0.4971 - categorical_accuracy: 1.00 - 0s 1ms/sample - loss: 0.4522 - categorical_accuracy: 1.0000\n",
      "Epoch 44/100\n",
      "7/7 [==============================] - 0s 1ms/sample - loss: 0.4423 - categorical_accuracy: 1.0000\n",
      "Epoch 45/100\n",
      "7/7 [==============================] - 0s 1ms/sample - loss: 0.4304 - categorical_accuracy: 1.0000\n",
      "Epoch 46/100\n",
      "7/7 [==============================] - 0s 1ms/sample - loss: 0.4239 - categorical_accuracy: 1.0000\n",
      "Epoch 47/100\n",
      "7/7 [==============================] - 0s 1ms/sample - loss: 0.4242 - categorical_accuracy: 1.0000\n",
      "Epoch 48/100\n",
      "7/7 [==============================] - 0s 1ms/sample - loss: 0.4151 - categorical_accuracy: 1.0000\n",
      "Epoch 49/100\n",
      "7/7 [==============================] - 0s 1ms/sample - loss: 0.4294 - categorical_accuracy: 1.0000\n",
      "Epoch 50/100\n",
      "7/7 [==============================] - 0s 1ms/sample - loss: 0.4068 - categorical_accuracy: 1.0000\n",
      "Epoch 51/100\n",
      "7/7 [==============================] - 0s 1ms/sample - loss: 0.4154 - categorical_accuracy: 1.0000\n",
      "Epoch 52/100\n",
      "7/7 [==============================] - 0s 997us/sample - loss: 0.4202 - categorical_accuracy: 0.8571\n",
      "Epoch 53/100\n",
      "7/7 [==============================] - 0s 1ms/sample - loss: 0.4274 - categorical_accuracy: 1.0000\n",
      "Epoch 54/100\n",
      "7/7 [==============================] - 0s 1ms/sample - loss: 0.3877 - categorical_accuracy: 1.0000\n",
      "Epoch 55/100\n",
      "7/7 [==============================] - 0s 1ms/sample - loss: 0.3793 - categorical_accuracy: 1.0000\n",
      "Epoch 56/100\n",
      "7/7 [==============================] - 0s 1ms/sample - loss: 0.3785 - categorical_accuracy: 1.0000\n",
      "Epoch 57/100\n",
      "7/7 [==============================] - 0s 1ms/sample - loss: 0.3699 - categorical_accuracy: 1.0000\n",
      "Epoch 58/100\n",
      "7/7 [==============================] - 0s 1ms/sample - loss: 0.3984 - categorical_accuracy: 0.8571\n",
      "Epoch 59/100\n",
      "7/7 [==============================] - 0s 1ms/sample - loss: 0.3851 - categorical_accuracy: 1.0000\n",
      "Epoch 60/100\n",
      "7/7 [==============================] - 0s 1ms/sample - loss: 0.3956 - categorical_accuracy: 0.8571\n",
      "Epoch 61/100\n",
      "7/7 [==============================] - 0s 1ms/sample - loss: 0.3629 - categorical_accuracy: 0.8571\n",
      "Epoch 62/100\n",
      "7/7 [==============================] - 0s 1ms/sample - loss: 0.3562 - categorical_accuracy: 1.0000\n",
      "Epoch 63/100\n",
      "7/7 [==============================] - 0s 1ms/sample - loss: 0.3537 - categorical_accuracy: 1.0000\n",
      "Epoch 64/100\n",
      "7/7 [==============================] - 0s 997us/sample - loss: 0.3405 - categorical_accuracy: 1.0000\n",
      "Epoch 65/100\n",
      "7/7 [==============================] - 0s 1ms/sample - loss: 0.3494 - categorical_accuracy: 1.0000\n",
      "Epoch 66/100\n",
      "7/7 [==============================] - 0s 1ms/sample - loss: 0.3381 - categorical_accuracy: 1.0000\n",
      "Epoch 67/100\n",
      "7/7 [==============================] - 0s 997us/sample - loss: 0.3506 - categorical_accuracy: 1.0000\n",
      "Epoch 68/100\n",
      "7/7 [==============================] - 0s 1ms/sample - loss: 0.3502 - categorical_accuracy: 1.0000\n",
      "Epoch 69/100\n",
      "7/7 [==============================] - 0s 1ms/sample - loss: 0.3386 - categorical_accuracy: 1.0000\n",
      "Epoch 70/100\n",
      "7/7 [==============================] - 0s 1ms/sample - loss: 0.3296 - categorical_accuracy: 1.0000\n",
      "Epoch 71/100\n",
      "7/7 [==============================] - 0s 1ms/sample - loss: 0.3360 - categorical_accuracy: 1.0000\n",
      "Epoch 72/100\n",
      "7/7 [==============================] - 0s 1ms/sample - loss: 0.3187 - categorical_accuracy: 1.0000\n",
      "Epoch 73/100\n"
     ]
    },
    {
     "name": "stdout",
     "output_type": "stream",
     "text": [
      "7/7 [==============================] - 0s 997us/sample - loss: 0.3071 - categorical_accuracy: 1.0000\n",
      "Epoch 74/100\n",
      "7/7 [==============================] - 0s 1ms/sample - loss: 0.3104 - categorical_accuracy: 1.0000\n",
      "Epoch 75/100\n",
      "7/7 [==============================] - 0s 1ms/sample - loss: 0.3067 - categorical_accuracy: 1.0000\n",
      "Epoch 76/100\n",
      "7/7 [==============================] - 0s 1ms/sample - loss: 0.3182 - categorical_accuracy: 0.8571\n",
      "Epoch 77/100\n",
      "7/7 [==============================] - 0s 997us/sample - loss: 0.3140 - categorical_accuracy: 0.8571\n",
      "Epoch 78/100\n",
      "7/7 [==============================] - 0s 997us/sample - loss: 0.3194 - categorical_accuracy: 0.8571\n",
      "Epoch 79/100\n",
      "7/7 [==============================] - 0s 1ms/sample - loss: 0.2987 - categorical_accuracy: 1.0000\n",
      "Epoch 80/100\n",
      "7/7 [==============================] - 0s 997us/sample - loss: 0.2965 - categorical_accuracy: 1.0000\n",
      "Epoch 81/100\n",
      "7/7 [==============================] - 0s 997us/sample - loss: 0.3108 - categorical_accuracy: 1.0000\n",
      "Epoch 82/100\n",
      "7/7 [==============================] - 0s 1ms/sample - loss: 0.2871 - categorical_accuracy: 1.0000\n",
      "Epoch 83/100\n",
      "7/7 [==============================] - 0s 997us/sample - loss: 0.2727 - categorical_accuracy: 1.0000\n",
      "Epoch 84/100\n",
      "7/7 [==============================] - 0s 1ms/sample - loss: 0.2840 - categorical_accuracy: 1.0000\n",
      "Epoch 85/100\n",
      "7/7 [==============================] - 0s 1ms/sample - loss: 0.2786 - categorical_accuracy: 1.0000\n",
      "Epoch 86/100\n",
      "7/7 [==============================] - 0s 997us/sample - loss: 0.2657 - categorical_accuracy: 1.0000\n",
      "Epoch 87/100\n",
      "7/7 [==============================] - 0s 997us/sample - loss: 0.2770 - categorical_accuracy: 1.0000\n",
      "Epoch 88/100\n",
      "7/7 [==============================] - 0s 1ms/sample - loss: 0.2645 - categorical_accuracy: 1.0000\n",
      "Epoch 89/100\n",
      "7/7 [==============================] - 0s 997us/sample - loss: 0.2638 - categorical_accuracy: 1.0000\n",
      "Epoch 90/100\n",
      "7/7 [==============================] - 0s 1ms/sample - loss: 0.2640 - categorical_accuracy: 1.0000\n",
      "Epoch 91/100\n",
      "7/7 [==============================] - 0s 1ms/sample - loss: 0.2578 - categorical_accuracy: 1.0000\n",
      "Epoch 92/100\n",
      "7/7 [==============================] - 0s 1ms/sample - loss: 0.2712 - categorical_accuracy: 1.0000\n",
      "Epoch 93/100\n",
      "7/7 [==============================] - 0s 1ms/sample - loss: 0.2578 - categorical_accuracy: 1.0000\n",
      "Epoch 94/100\n",
      "7/7 [==============================] - 0s 997us/sample - loss: 0.2869 - categorical_accuracy: 1.0000\n",
      "Epoch 95/100\n",
      "7/7 [==============================] - 0s 997us/sample - loss: 0.2643 - categorical_accuracy: 1.0000\n",
      "Epoch 96/100\n",
      "7/7 [==============================] - 0s 997us/sample - loss: 0.3221 - categorical_accuracy: 0.8571\n",
      "Epoch 97/100\n",
      "7/7 [==============================] - 0s 997us/sample - loss: 0.2465 - categorical_accuracy: 1.0000\n",
      "Epoch 98/100\n",
      "7/7 [==============================] - 0s 1ms/sample - loss: 0.2738 - categorical_accuracy: 0.8571\n",
      "Epoch 99/100\n",
      "7/7 [==============================] - 0s 1ms/sample - loss: 0.2533 - categorical_accuracy: 1.0000\n",
      "Epoch 100/100\n",
      "7/7 [==============================] - 0s 997us/sample - loss: 0.2384 - categorical_accuracy: 1.0000\n"
     ]
    }
   ],
   "source": [
    "history = model.fit(train_X, train_Y, batch_size=2, epochs=100, verbose=1)"
   ]
  },
  {
   "cell_type": "code",
   "execution_count": 190,
   "metadata": {},
   "outputs": [
    {
     "name": "stdout",
     "output_type": "stream",
     "text": [
      "3/3 [==============================] - 0s 0s/sample - loss: 14.8983 - categorical_accuracy: 0.0000e+00\n",
      "loss (cross-entropy) : 14.898303985595703\n",
      "test accuracy : 0.0\n"
     ]
    }
   ],
   "source": [
    "result = model.evaluate(test_X, test_Y)\n",
    "\n",
    "print('loss (cross-entropy) :', result[0])\n",
    "print('test accuracy :', result[1])"
   ]
  },
  {
   "cell_type": "code",
   "execution_count": 172,
   "metadata": {},
   "outputs": [],
   "source": [
    "pred_X = np.array([11, 12, 13]).reshape(-1, 1)"
   ]
  },
  {
   "cell_type": "code",
   "execution_count": 173,
   "metadata": {},
   "outputs": [
    {
     "data": {
      "text/plain": [
       "array([0, 0, 0], dtype=int64)"
      ]
     },
     "execution_count": 173,
     "metadata": {},
     "output_type": "execute_result"
    }
   ],
   "source": [
    "np.argmax(model.predict(test_X), axis=1)"
   ]
  },
  {
   "cell_type": "markdown",
   "metadata": {},
   "source": [
    "#### Classifier2"
   ]
  },
  {
   "cell_type": "code",
   "execution_count": 175,
   "metadata": {},
   "outputs": [],
   "source": [
    "from keras.utils import np_utils\n",
    "\n",
    "data_X = np.arange(10).reshape(-1, 1).astype('float32')\n",
    "data_Y = np.array([1, 2, 3, 4, 5, 1, 2, 3, 4, 5]).astype('float32')\n",
    "data_Y = np_utils.to_categorical(data_Y, 6)\n",
    "# print(data_Y)"
   ]
  },
  {
   "cell_type": "code",
   "execution_count": 176,
   "metadata": {},
   "outputs": [
    {
     "name": "stdout",
     "output_type": "stream",
     "text": [
      "(7, 1)\n",
      "(3, 1)\n",
      "(3, 6)\n",
      "[[0. 0. 0. 1. 0. 0.]\n",
      " [0. 0. 0. 0. 1. 0.]\n",
      " [0. 0. 0. 0. 0. 1.]]\n"
     ]
    }
   ],
   "source": [
    "train_X, test_X, train_Y, test_Y = model_selection.train_test_split\\\n",
    "(data_X, data_Y, test_size=0.3, random_state=0)\n",
    "print(train_X.shape)\n",
    "print(test_X.shape)\n",
    "print(test_Y.shape)\n",
    "print(test_Y)"
   ]
  },
  {
   "cell_type": "code",
   "execution_count": 178,
   "metadata": {},
   "outputs": [],
   "source": [
    "model = models.Sequential() \n",
    "\n",
    "model.add(layers.Dense(input_dim=1, units=128, activation=None)) \n",
    "# model.add(layers.BatchNormalization()) # Use this line as if needed\n",
    "model.add(layers.Activation('relu')) # layers.ELU or layers.LeakyReLU\n",
    "\n",
    "model.add(layers.Dense(units=128, activation=None)) \n",
    "model.add(layers.Activation('relu')) \n",
    "\n",
    "model.add(layers.Dense(units=64, activation=None)) \n",
    "model.add(layers.Activation('relu'))\n",
    "\n",
    "model.add(layers.Dense(units=6, activation='softmax')) # One-hot vector for 0 & 1"
   ]
  },
  {
   "cell_type": "code",
   "execution_count": 179,
   "metadata": {},
   "outputs": [],
   "source": [
    "model.compile(optimizer=optimizers.Adam(), \n",
    "              loss='categorical_crossentropy',\n",
    "              metrics=[metrics.categorical_accuracy]) "
   ]
  },
  {
   "cell_type": "code",
   "execution_count": 182,
   "metadata": {},
   "outputs": [
    {
     "name": "stdout",
     "output_type": "stream",
     "text": [
      "Epoch 1/100\n",
      "7/7 [==============================] - 0s 1ms/sample - loss: 1.2325 - categorical_accuracy: 0.4286\n",
      "Epoch 2/100\n",
      "7/7 [==============================] - 0s 570us/sample - loss: 1.2220 - categorical_accuracy: 0.4286\n",
      "Epoch 3/100\n",
      "7/7 [==============================] - 0s 568us/sample - loss: 1.2218 - categorical_accuracy: 0.4286\n",
      "Epoch 4/100\n",
      "7/7 [==============================] - 0s 570us/sample - loss: 1.2206 - categorical_accuracy: 0.4286\n",
      "Epoch 5/100\n",
      "7/7 [==============================] - 0s 704us/sample - loss: 1.2083 - categorical_accuracy: 0.5714\n",
      "Epoch 6/100\n",
      "7/7 [==============================] - 0s 717us/sample - loss: 1.2048 - categorical_accuracy: 0.4286\n",
      "Epoch 7/100\n",
      "7/7 [==============================] - 0s 712us/sample - loss: 1.1867 - categorical_accuracy: 0.5714\n",
      "Epoch 8/100\n",
      "7/7 [==============================] - 0s 570us/sample - loss: 1.1803 - categorical_accuracy: 0.7143\n",
      "Epoch 9/100\n",
      "7/7 [==============================] - 0s 561us/sample - loss: 1.1769 - categorical_accuracy: 0.5714\n",
      "Epoch 10/100\n",
      "7/7 [==============================] - 0s 570us/sample - loss: 1.1656 - categorical_accuracy: 0.5714\n",
      "Epoch 11/100\n",
      "7/7 [==============================] - 0s 712us/sample - loss: 1.1563 - categorical_accuracy: 0.5714\n",
      "Epoch 12/100\n",
      "7/7 [==============================] - 0s 712us/sample - loss: 1.1509 - categorical_accuracy: 0.5714\n",
      "Epoch 13/100\n",
      "7/7 [==============================] - 0s 720us/sample - loss: 1.1447 - categorical_accuracy: 0.5714\n",
      "Epoch 14/100\n",
      "7/7 [==============================] - 0s 713us/sample - loss: 1.1379 - categorical_accuracy: 0.4286\n",
      "Epoch 15/100\n",
      "7/7 [==============================] - 0s 428us/sample - loss: 1.1388 - categorical_accuracy: 0.4286\n",
      "Epoch 16/100\n",
      "7/7 [==============================] - 0s 570us/sample - loss: 1.1270 - categorical_accuracy: 0.4286\n",
      "Epoch 17/100\n",
      "7/7 [==============================] - 0s 570us/sample - loss: 1.1245 - categorical_accuracy: 0.4286\n",
      "Epoch 18/100\n",
      "7/7 [==============================] - 0s 563us/sample - loss: 1.1301 - categorical_accuracy: 0.4286\n",
      "Epoch 19/100\n",
      "7/7 [==============================] - 0s 570us/sample - loss: 1.1184 - categorical_accuracy: 0.4286\n",
      "Epoch 20/100\n",
      "7/7 [==============================] - 0s 570us/sample - loss: 1.1150 - categorical_accuracy: 0.4286\n",
      "Epoch 21/100\n",
      "7/7 [==============================] - 0s 561us/sample - loss: 1.1144 - categorical_accuracy: 0.4286\n",
      "Epoch 22/100\n",
      "7/7 [==============================] - 0s 570us/sample - loss: 1.1070 - categorical_accuracy: 0.4286\n",
      "Epoch 23/100\n",
      "7/7 [==============================] - 0s 561us/sample - loss: 1.1152 - categorical_accuracy: 0.4286\n",
      "Epoch 24/100\n",
      "7/7 [==============================] - 0s 549us/sample - loss: 1.1010 - categorical_accuracy: 0.4286\n",
      "Epoch 25/100\n",
      "7/7 [==============================] - 0s 570us/sample - loss: 1.0948 - categorical_accuracy: 0.4286\n",
      "Epoch 26/100\n",
      "7/7 [==============================] - 0s 570us/sample - loss: 1.0903 - categorical_accuracy: 0.4286\n",
      "Epoch 27/100\n",
      "7/7 [==============================] - 0s 712us/sample - loss: 1.0849 - categorical_accuracy: 0.4286\n",
      "Epoch 28/100\n",
      "7/7 [==============================] - 0s 559us/sample - loss: 1.0829 - categorical_accuracy: 0.4286\n",
      "Epoch 29/100\n",
      "7/7 [==============================] - 0s 424us/sample - loss: 1.0762 - categorical_accuracy: 0.4286\n",
      "Epoch 30/100\n",
      "7/7 [==============================] - 0s 556us/sample - loss: 1.0737 - categorical_accuracy: 0.4286\n",
      "Epoch 31/100\n",
      "7/7 [==============================] - 0s 571us/sample - loss: 1.0620 - categorical_accuracy: 0.4286\n",
      "Epoch 32/100\n",
      "7/7 [==============================] - 0s 707us/sample - loss: 1.0639 - categorical_accuracy: 0.4286\n",
      "Epoch 33/100\n",
      "7/7 [==============================] - 0s 570us/sample - loss: 1.0555 - categorical_accuracy: 0.4286\n",
      "Epoch 34/100\n",
      "7/7 [==============================] - 0s 722us/sample - loss: 1.0556 - categorical_accuracy: 0.4286\n",
      "Epoch 35/100\n",
      "7/7 [==============================] - 0s 433us/sample - loss: 1.0493 - categorical_accuracy: 0.4286\n",
      "Epoch 36/100\n",
      "7/7 [==============================] - 0s 562us/sample - loss: 1.0438 - categorical_accuracy: 0.4286\n",
      "Epoch 37/100\n",
      "7/7 [==============================] - 0s 570us/sample - loss: 1.0359 - categorical_accuracy: 0.5714\n",
      "Epoch 38/100\n",
      "7/7 [==============================] - 0s 575us/sample - loss: 1.0347 - categorical_accuracy: 0.5714\n",
      "Epoch 39/100\n",
      "7/7 [==============================] - 0s 427us/sample - loss: 1.0332 - categorical_accuracy: 0.5714\n",
      "Epoch 40/100\n",
      "7/7 [==============================] - 0s 570us/sample - loss: 1.0294 - categorical_accuracy: 0.5714\n",
      "Epoch 41/100\n",
      "7/7 [==============================] - 0s 579us/sample - loss: 1.0413 - categorical_accuracy: 0.5714\n",
      "Epoch 42/100\n",
      "7/7 [==============================] - 0s 301us/sample - loss: 1.0350 - categorical_accuracy: 0.5714\n",
      "Epoch 43/100\n",
      "7/7 [==============================] - 0s 570us/sample - loss: 1.0229 - categorical_accuracy: 0.5714\n",
      "Epoch 44/100\n",
      "7/7 [==============================] - 0s 570us/sample - loss: 1.0128 - categorical_accuracy: 0.5714\n",
      "Epoch 45/100\n",
      "7/7 [==============================] - 0s 419us/sample - loss: 1.0084 - categorical_accuracy: 0.5714\n",
      "Epoch 46/100\n",
      "7/7 [==============================] - 0s 568us/sample - loss: 0.9999 - categorical_accuracy: 0.5714\n",
      "Epoch 47/100\n",
      "7/7 [==============================] - 0s 559us/sample - loss: 0.9910 - categorical_accuracy: 0.5714\n",
      "Epoch 48/100\n",
      "7/7 [==============================] - 0s 419us/sample - loss: 0.9881 - categorical_accuracy: 0.4286\n",
      "Epoch 49/100\n",
      "7/7 [==============================] - 0s 570us/sample - loss: 0.9802 - categorical_accuracy: 0.4286\n",
      "Epoch 50/100\n",
      "7/7 [==============================] - 0s 570us/sample - loss: 0.9796 - categorical_accuracy: 0.4286\n",
      "Epoch 51/100\n",
      "7/7 [==============================] - 0s 429us/sample - loss: 0.9702 - categorical_accuracy: 0.4286\n",
      "Epoch 52/100\n",
      "7/7 [==============================] - 0s 427us/sample - loss: 0.9728 - categorical_accuracy: 0.5714\n",
      "Epoch 53/100\n",
      "7/7 [==============================] - 0s 570us/sample - loss: 0.9627 - categorical_accuracy: 0.5714\n",
      "Epoch 54/100\n",
      "7/7 [==============================] - 0s 435us/sample - loss: 0.9563 - categorical_accuracy: 0.5714\n",
      "Epoch 55/100\n",
      "7/7 [==============================] - 0s 570us/sample - loss: 0.9543 - categorical_accuracy: 0.5714\n",
      "Epoch 56/100\n",
      "7/7 [==============================] - 0s 575us/sample - loss: 0.9351 - categorical_accuracy: 0.5714\n",
      "Epoch 57/100\n",
      "7/7 [==============================] - 0s 579us/sample - loss: 0.9293 - categorical_accuracy: 0.4286\n",
      "Epoch 58/100\n",
      "7/7 [==============================] - 0s 428us/sample - loss: 0.9419 - categorical_accuracy: 0.4286\n",
      "Epoch 59/100\n",
      "7/7 [==============================] - 0s 570us/sample - loss: 0.9560 - categorical_accuracy: 0.4286\n",
      "Epoch 60/100\n",
      "7/7 [==============================] - 0s 570us/sample - loss: 0.9542 - categorical_accuracy: 0.5714\n",
      "Epoch 61/100\n",
      "7/7 [==============================] - 0s 570us/sample - loss: 0.9469 - categorical_accuracy: 0.5714\n",
      "Epoch 62/100\n",
      "7/7 [==============================] - 0s 570us/sample - loss: 0.9284 - categorical_accuracy: 0.5714\n",
      "Epoch 63/100\n",
      "7/7 [==============================] - 0s 712us/sample - loss: 0.9182 - categorical_accuracy: 0.5714\n",
      "Epoch 64/100\n",
      "7/7 [==============================] - 0s 570us/sample - loss: 0.9075 - categorical_accuracy: 0.5714\n",
      "Epoch 65/100\n",
      "7/7 [==============================] - 0s 559us/sample - loss: 0.8923 - categorical_accuracy: 0.5714\n",
      "Epoch 66/100\n",
      "7/7 [==============================] - 0s 570us/sample - loss: 0.8852 - categorical_accuracy: 0.7143\n",
      "Epoch 67/100\n",
      "7/7 [==============================] - 0s 570us/sample - loss: 0.8913 - categorical_accuracy: 0.7143\n",
      "Epoch 68/100\n",
      "7/7 [==============================] - 0s 560us/sample - loss: 0.8977 - categorical_accuracy: 0.7143\n",
      "Epoch 69/100\n",
      "7/7 [==============================] - 0s 417us/sample - loss: 0.9038 - categorical_accuracy: 0.7143\n",
      "Epoch 70/100\n",
      "7/7 [==============================] - 0s 562us/sample - loss: 0.8914 - categorical_accuracy: 0.7143\n",
      "Epoch 71/100\n",
      "7/7 [==============================] - 0s 420us/sample - loss: 0.8671 - categorical_accuracy: 0.7143\n",
      "Epoch 72/100\n",
      "7/7 [==============================] - 0s 712us/sample - loss: 0.8770 - categorical_accuracy: 0.5714\n"
     ]
    },
    {
     "name": "stdout",
     "output_type": "stream",
     "text": [
      "Epoch 73/100\n",
      "7/7 [==============================] - 0s 570us/sample - loss: 0.8767 - categorical_accuracy: 0.4286\n",
      "Epoch 74/100\n",
      "7/7 [==============================] - 0s 427us/sample - loss: 0.8719 - categorical_accuracy: 0.4286\n",
      "Epoch 75/100\n",
      "7/7 [==============================] - 0s 427us/sample - loss: 0.8656 - categorical_accuracy: 0.7143\n",
      "Epoch 76/100\n",
      "7/7 [==============================] - 0s 722us/sample - loss: 0.8615 - categorical_accuracy: 0.7143\n",
      "Epoch 77/100\n",
      "7/7 [==============================] - 0s 428us/sample - loss: 0.8466 - categorical_accuracy: 0.7143\n",
      "Epoch 78/100\n",
      "7/7 [==============================] - 0s 569us/sample - loss: 0.8429 - categorical_accuracy: 0.7143\n",
      "Epoch 79/100\n",
      "7/7 [==============================] - 0s 570us/sample - loss: 0.8372 - categorical_accuracy: 0.8571\n",
      "Epoch 80/100\n",
      "7/7 [==============================] - 0s 561us/sample - loss: 0.8350 - categorical_accuracy: 0.7143\n",
      "Epoch 81/100\n",
      "7/7 [==============================] - 0s 573us/sample - loss: 0.8309 - categorical_accuracy: 0.7143\n",
      "Epoch 82/100\n",
      "7/7 [==============================] - 0s 427us/sample - loss: 0.8297 - categorical_accuracy: 0.7143\n",
      "Epoch 83/100\n",
      "7/7 [==============================] - 0s 561us/sample - loss: 0.8131 - categorical_accuracy: 0.7143\n",
      "Epoch 84/100\n",
      "7/7 [==============================] - 0s 557us/sample - loss: 0.7983 - categorical_accuracy: 0.7143\n",
      "Epoch 85/100\n",
      "7/7 [==============================] - 0s 419us/sample - loss: 0.8378 - categorical_accuracy: 0.8571\n",
      "Epoch 86/100\n",
      "7/7 [==============================] - 0s 559us/sample - loss: 0.8209 - categorical_accuracy: 0.8571\n",
      "Epoch 87/100\n",
      "7/7 [==============================] - 0s 437us/sample - loss: 0.8045 - categorical_accuracy: 0.8571\n",
      "Epoch 88/100\n",
      "7/7 [==============================] - 0s 421us/sample - loss: 0.8005 - categorical_accuracy: 0.7143\n",
      "Epoch 89/100\n",
      "7/7 [==============================] - 0s 427us/sample - loss: 0.7902 - categorical_accuracy: 0.7143\n",
      "Epoch 90/100\n",
      "7/7 [==============================] - 0s 712us/sample - loss: 0.7881 - categorical_accuracy: 0.7143\n",
      "Epoch 91/100\n",
      "7/7 [==============================] - 0s 425us/sample - loss: 0.7816 - categorical_accuracy: 0.7143\n",
      "Epoch 92/100\n",
      "7/7 [==============================] - 0s 570us/sample - loss: 0.7734 - categorical_accuracy: 0.7143\n",
      "Epoch 93/100\n",
      "7/7 [==============================] - 0s 427us/sample - loss: 0.7764 - categorical_accuracy: 0.7143\n",
      "Epoch 94/100\n",
      "7/7 [==============================] - 0s 427us/sample - loss: 0.7882 - categorical_accuracy: 0.7143\n",
      "Epoch 95/100\n",
      "7/7 [==============================] - 0s 419us/sample - loss: 0.7945 - categorical_accuracy: 0.7143\n",
      "Epoch 96/100\n",
      "7/7 [==============================] - 0s 427us/sample - loss: 0.7662 - categorical_accuracy: 0.7143\n",
      "Epoch 97/100\n",
      "7/7 [==============================] - 0s 418us/sample - loss: 0.7779 - categorical_accuracy: 0.7143\n",
      "Epoch 98/100\n",
      "7/7 [==============================] - 0s 560us/sample - loss: 0.7824 - categorical_accuracy: 0.5714\n",
      "Epoch 99/100\n",
      "7/7 [==============================] - 0s 570us/sample - loss: 0.7756 - categorical_accuracy: 0.5714\n",
      "Epoch 100/100\n",
      "7/7 [==============================] - 0s 428us/sample - loss: 0.7565 - categorical_accuracy: 0.5714\n"
     ]
    }
   ],
   "source": [
    "history = model.fit(train_X, train_Y, batch_size=5, epochs=100, verbose=1)"
   ]
  },
  {
   "cell_type": "code",
   "execution_count": 186,
   "metadata": {},
   "outputs": [
    {
     "name": "stdout",
     "output_type": "stream",
     "text": [
      "3/3 [==============================] - 0s 0s/sample - loss: 4.5187 - categorical_accuracy: 0.0000e+00\n",
      "loss (cross-entropy) : 4.51867151260376\n",
      "test accuracy : 0.0\n"
     ]
    }
   ],
   "source": [
    "result = model.evaluate(test_X, test_Y)\n",
    "\n",
    "print('loss (cross-entropy) :', result[0])\n",
    "print('test accuracy :', result[1])"
   ]
  },
  {
   "cell_type": "code",
   "execution_count": 187,
   "metadata": {},
   "outputs": [],
   "source": [
    "pred_X = np.array([11, 12, 13]).reshape(-1, 1)"
   ]
  },
  {
   "cell_type": "code",
   "execution_count": 188,
   "metadata": {},
   "outputs": [
    {
     "data": {
      "text/plain": [
       "array([2, 5, 2], dtype=int64)"
      ]
     },
     "execution_count": 188,
     "metadata": {},
     "output_type": "execute_result"
    }
   ],
   "source": [
    "np.argmax(model.predict(test_X), axis=1)"
   ]
  },
  {
   "cell_type": "code",
   "execution_count": null,
   "metadata": {},
   "outputs": [],
   "source": []
  }
 ],
 "metadata": {
  "kernelspec": {
   "display_name": "Python 3",
   "language": "python",
   "name": "python3"
  },
  "language_info": {
   "codemirror_mode": {
    "name": "ipython",
    "version": 3
   },
   "file_extension": ".py",
   "mimetype": "text/x-python",
   "name": "python",
   "nbconvert_exporter": "python",
   "pygments_lexer": "ipython3",
   "version": "3.7.3"
  }
 },
 "nbformat": 4,
 "nbformat_minor": 2
}
